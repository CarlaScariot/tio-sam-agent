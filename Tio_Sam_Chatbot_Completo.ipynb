{
 "cells": [
  {
   "cell_type": "markdown",
   "id": "714cd8ff",
   "metadata": {},
   "source": [
    "# 🇺🇸 Tio Sam – Chatbot de Triagem Imigratória Completa\n",
    "**Olá, eu sou o Tio Sam!** Seu assistente paralegal de imigração para os Estados Unidos. 👋\n",
    "\n",
    "Vou conversar com você para entender seu perfil e recomendar o melhor caminho de imigração com base nas regras da **USCIS**, incluindo:\n",
    "- Vistos baseados em emprego (EB-1, EB-2, EB-3, EB-4)\n",
    "- Vistos de estudo (F-1)\n",
    "- Vistos de turismo ou negócios (B-1/B-2)\n",
    "- Vistos por investimento (E-2, EB-5)\n",
    "- Vistos por vínculo familiar (IR, F1, F2A...)\n",
    "\n",
    "👉 Vamos começar coletando suas informações de contato."
   ]
  },
  {
   "cell_type": "code",
   "execution_count": null,
   "id": "cf43a2bc",
   "metadata": {},
   "outputs": [],
   "source": [
    "def iniciar_conversa():\n",
    "    print(\"Olá! Eu sou o Tio Sam 🇺🇸. Vamos conversar? 😊\")\n",
    "    nome = input(\"Qual é o seu nome completo? \")\n",
    "    email = input(\"Seu e-mail: ✉️ \")\n",
    "    telefone = input(\"Seu telefone com DDD: 📞 \")\n",
    "\n",
    "    print(f\"Perfeito, {nome}! Agora me conte um pouco mais sobre você. 🙌\")\n",
    "    dados = {'nome': nome, 'email': email, 'telefone': telefone}\n",
    "    dados['idade'] = int(input(\"Qual sua idade? \"))\n",
    "    dados['formacao'] = input(\"Formação acadêmica: \")\n",
    "    dados['anos_experiencia'] = int(input(\"Anos de experiência profissional: \"))\n",
    "    dados['ingles'] = input(\"Nível de inglês (básico/intermediário/avançado/fluente): \")\n",
    "    dados['premios'] = input(\"Recebeu prêmios importantes na sua área? (sim/não): \")\n",
    "    dados['publicacoes'] = input(\"Tem publicações científicas ou técnicas? (sim/não): \")\n",
    "    dados['lidera_equipes'] = input(\"Lidera equipes ou cargos gerenciais? (sim/não): \")\n",
    "    dados['empresa_multinacional'] = input(\"Trabalha em empresa multinacional? (sim/não): \")\n",
    "    dados['vinculo_religioso'] = input(\"É líder religioso ou missionário? (sim/não): \")\n",
    "    dados['proposta_emprego'] = input(\"Tem proposta de emprego nos EUA? (sim/não): \")\n",
    "    dados['familia_eua'] = input(\"Tem parentes diretos nos EUA? (sim/não): \")\n",
    "    dados['interesse_estudo'] = input(\"Você tem interesse em estudar nos EUA? (sim/nao): \")\n",
    "    dados['capacidade_investimento'] = input(\"Você tem capital para investir nos EUA (acima de 100 mil USD)? (sim/nao): \")\n",
    "    return dados"
   ]
  },
  {
   "cell_type": "code",
   "execution_count": null,
   "id": "1add1f06",
   "metadata": {},
   "outputs": [],
   "source": [
    "def gerar_parecer(d):\n",
    "    print(f\"\\nObrigado, {d['nome']}! Analisando seu perfil agora... 🔍\\n\")\n",
    "    rotas = []\n",
    "\n",
    "    if d['premios'] == 'sim' or d['publicacoes'] == 'sim':\n",
    "        rotas.append('EB-1A: Habilidade extraordinária')\n",
    "    elif d['formacao'] in ['mestrado', 'doutorado'] and d['anos_experiencia'] >= 5:\n",
    "        rotas.append('EB-2: Formação avançada ou NIW')\n",
    "    elif d['anos_experiencia'] >= 2:\n",
    "        rotas.append('EB-3: Profissional qualificado')\n",
    "    if d['lidera_equipes'] == 'sim' and d['empresa_multinacional'] == 'sim':\n",
    "        rotas.append('EB-1C: Executivo transferido')\n",
    "    if d['vinculo_religioso'] == 'sim':\n",
    "        rotas.append('EB-4: Trabalhador religioso ou especial')\n",
    "    if d['interesse_estudo'] == 'sim' and d['idade'] <= 45:\n",
    "        rotas.append('F-1: Visto de estudante')\n",
    "    if d['capacidade_investimento'] == 'sim':\n",
    "        rotas.append('E-2 ou EB-5: Visto de investidor')\n",
    "    if d['familia_eua'] == 'sim':\n",
    "        rotas.append('Visto familiar: IR, F1, F2A etc.')\n",
    "    if d['idade'] >= 18 and d['idade'] <= 60 and d['familia_eua'] == 'não' and d['interesse_estudo'] == 'não' and d['capacidade_investimento'] == 'não':\n",
    "        rotas.append('B-1/B-2: Turismo ou negócios')\n",
    "\n",
    "    if rotas:\n",
    "        print(\"✅ Recomendações possíveis com base no seu perfil:\")\n",
    "        for r in rotas:\n",
    "            print(f\"- {r}\")\n",
    "    else:\n",
    "        print(\"⚠️ Nenhuma rota clara encontrada. É recomendável consultar um advogado de imigração para estratégias alternativas.\")\n",
    "    print(f\"\\nFoi um prazer conversar com você, {d['nome']}! Entraremos em contato por e-mail ({d['email']}) ou telefone ({d['telefone']}) caso deseje acompanhamento personalizado. 🇺🇸\")"
   ]
  },
  {
   "cell_type": "code",
   "execution_count": null,
   "id": "effcd9fb",
   "metadata": {},
   "outputs": [],
   "source": [
    "dados = iniciar_conversa()\n",
    "gerar_parecer(dados)"
   ]
  }
 ],
 "metadata": {},
 "nbformat": 4,
 "nbformat_minor": 5
}
